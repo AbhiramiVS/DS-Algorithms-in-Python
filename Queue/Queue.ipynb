{
 "cells": [
  {
   "cell_type": "markdown",
   "id": "3ad46ac4",
   "metadata": {},
   "source": [
    "## Queue Implementation"
   ]
  },
  {
   "cell_type": "markdown",
   "id": "b88030cd",
   "metadata": {},
   "source": [
    "### Using Lists"
   ]
  },
  {
   "cell_type": "code",
   "execution_count": 1,
   "id": "9cf3ba7b",
   "metadata": {},
   "outputs": [],
   "source": [
    "class Queue:\n",
    "    def __init__(self):\n",
    "        self.items = []\n",
    "        \n",
    "    def enqueue(self,item):\n",
    "        self.items.append(item)\n",
    "    \n",
    "    def dequeue(self):\n",
    "        if not self.is_empty():\n",
    "            return self.items.pop(0)\n",
    "        else:\n",
    "            raise IndexError (\"Queue is Empty\")  \n",
    "    def is_empty(self):\n",
    "        return len(self.items) == 0\n",
    "    \n",
    "    def size(self):\n",
    "        return len(self.items)"
   ]
  },
  {
   "cell_type": "code",
   "execution_count": 2,
   "id": "03683dd8",
   "metadata": {},
   "outputs": [
    {
     "name": "stdout",
     "output_type": "stream",
     "text": [
      "Wall time: 33.2 ms\n"
     ]
    }
   ],
   "source": [
    "%%time\n",
    "\n",
    "# Example usage:\n",
    "my_queue = Queue()\n",
    "for i in range(0,100000):\n",
    "    my_queue.enqueue(i)"
   ]
  },
  {
   "cell_type": "code",
   "execution_count": 3,
   "id": "d5c9cc3d",
   "metadata": {},
   "outputs": [
    {
     "name": "stdout",
     "output_type": "stream",
     "text": [
      "Dequeued item: 0\n",
      "Wall time: 0 ns\n"
     ]
    }
   ],
   "source": [
    "%%time\n",
    "\n",
    "dequeued_item = my_queue.dequeue()\n",
    "print(\"Dequeued item:\", dequeued_item)"
   ]
  },
  {
   "cell_type": "markdown",
   "id": "99beb7b8",
   "metadata": {},
   "source": [
    "### Using Deque"
   ]
  },
  {
   "cell_type": "code",
   "execution_count": 4,
   "id": "9d81efdc",
   "metadata": {},
   "outputs": [],
   "source": [
    "from collections import deque\n",
    "\n",
    "class Queue:\n",
    "    def __init__(self):\n",
    "        self.items = deque()\n",
    "        \n",
    "    def enqueue(self,item):\n",
    "        self.items.append(item)\n",
    "        \n",
    "    def dequeue(self):\n",
    "        if not self.is_empty():\n",
    "            return self.items.popleft()\n",
    "        else:\n",
    "            raise IndexError(\"Queue is empty\")\n",
    "            \n",
    "    def is_empty(self):\n",
    "        return len(self.items) == 0\n",
    "    \n",
    "    def size(self):\n",
    "        return len(self.items)"
   ]
  },
  {
   "cell_type": "code",
   "execution_count": 5,
   "id": "b34ffd22",
   "metadata": {},
   "outputs": [
    {
     "name": "stdout",
     "output_type": "stream",
     "text": [
      "Wall time: 16.7 ms\n"
     ]
    }
   ],
   "source": [
    "%%time\n",
    "\n",
    "# Example usage:\n",
    "my_queue = Queue()\n",
    "for i in range(0,100000):\n",
    "    my_queue.enqueue(i)"
   ]
  },
  {
   "cell_type": "code",
   "execution_count": 6,
   "id": "de51268a",
   "metadata": {},
   "outputs": [
    {
     "name": "stdout",
     "output_type": "stream",
     "text": [
      "Dequeued item: 0\n",
      "Wall time: 643 µs\n"
     ]
    }
   ],
   "source": [
    "%%time\n",
    "\n",
    "dequeued_item = my_queue.dequeue()\n",
    "print(\"Dequeued item:\", dequeued_item)"
   ]
  },
  {
   "cell_type": "markdown",
   "id": "e88fd5ab",
   "metadata": {},
   "source": [
    "### Using Queue from Python"
   ]
  },
  {
   "cell_type": "code",
   "execution_count": 7,
   "id": "2ab6138d",
   "metadata": {},
   "outputs": [
    {
     "name": "stdout",
     "output_type": "stream",
     "text": [
      "Wall time: 202 ms\n"
     ]
    }
   ],
   "source": [
    "%%time\n",
    "\n",
    "from queue import Queue\n",
    "\n",
    "# Create a queue\n",
    "my_queue = Queue()\n",
    "\n",
    "# Example usage:\n",
    "my_queue = Queue()\n",
    "for i in range(0,100000):\n",
    "    my_queue.put(i)"
   ]
  },
  {
   "cell_type": "code",
   "execution_count": 8,
   "id": "4d295391",
   "metadata": {},
   "outputs": [
    {
     "name": "stdout",
     "output_type": "stream",
     "text": [
      "Dequeued item: 0\n",
      "Wall time: 0 ns\n"
     ]
    }
   ],
   "source": [
    "%%time\n",
    "\n",
    "# Dequeue elements\n",
    "dequeued_item = my_queue.get()\n",
    "print(\"Dequeued item:\", dequeued_item)"
   ]
  },
  {
   "cell_type": "code",
   "execution_count": 10,
   "id": "93b77510",
   "metadata": {},
   "outputs": [
    {
     "name": "stdout",
     "output_type": "stream",
     "text": [
      "Number of threads: 5\n"
     ]
    }
   ],
   "source": [
    "import threading\n",
    "\n",
    "# Get the number of active threads\n",
    "num_threads = threading.active_count()\n",
    "print(\"Number of threads:\", num_threads)"
   ]
  },
  {
   "cell_type": "markdown",
   "id": "157e3571",
   "metadata": {},
   "source": [
    "## Slack Implementation"
   ]
  },
  {
   "cell_type": "markdown",
   "id": "aacfa55f",
   "metadata": {},
   "source": [
    "### Using Lists"
   ]
  },
  {
   "cell_type": "code",
   "execution_count": 11,
   "id": "c61855a1",
   "metadata": {},
   "outputs": [],
   "source": [
    "class Stack:\n",
    "    def __init__(self):\n",
    "        self.items = []\n",
    "        \n",
    "    def is_empty(self):\n",
    "        return len(self.items) == 0\n",
    "    \n",
    "    def push(self, item):\n",
    "        self.items.append(item)\n",
    "        \n",
    "    def pop(self):\n",
    "        if not self.is_empty():\n",
    "            return self.items.pop()\n",
    "        else:\n",
    "            raise IndexError(\"Stack is empty\")\n",
    "            \n",
    "    def peek(self):\n",
    "        if not self.is_empty():\n",
    "            return self.items[-1]\n",
    "        else:\n",
    "            raise IndexError(\"Stack is empty\")\n",
    "            \n",
    "    def size(self):\n",
    "        return len(self.items)"
   ]
  },
  {
   "cell_type": "code",
   "execution_count": 12,
   "id": "99b6a66c",
   "metadata": {},
   "outputs": [
    {
     "name": "stdout",
     "output_type": "stream",
     "text": [
      "Wall time: 26.7 ms\n"
     ]
    }
   ],
   "source": [
    "%%time\n",
    "\n",
    "# Example usage:\n",
    "my_stack = Stack()\n",
    "for i in range(0,100000):\n",
    "    my_stack.push(i)"
   ]
  },
  {
   "cell_type": "code",
   "execution_count": 13,
   "id": "4f8e01a3",
   "metadata": {},
   "outputs": [
    {
     "name": "stdout",
     "output_type": "stream",
     "text": [
      "Peeked item: 99999\n",
      "Wall time: 0 ns\n"
     ]
    }
   ],
   "source": [
    "%%time\n",
    "peeked_item = my_stack.peek()\n",
    "print(\"Peeked item:\", peeked_item)\n",
    "# print(\"Current Stack:\", my_stack.items)"
   ]
  },
  {
   "cell_type": "code",
   "execution_count": 14,
   "id": "acb3546a",
   "metadata": {},
   "outputs": [
    {
     "name": "stdout",
     "output_type": "stream",
     "text": [
      "Popped item: 99999\n",
      "Wall time: 0 ns\n"
     ]
    }
   ],
   "source": [
    "%%time\n",
    "popped_item = my_stack.pop()\n",
    "print(\"Popped item:\", popped_item)\n",
    "# print(\"Updated Stack:\", my_stack.items)"
   ]
  },
  {
   "cell_type": "code",
   "execution_count": 15,
   "id": "dbf2e668",
   "metadata": {},
   "outputs": [],
   "source": [
    "from collections import deque\n",
    "\n",
    "class Stack:\n",
    "    def __init__(self):\n",
    "        self.items = deque()\n",
    "\n",
    "    def is_empty(self):\n",
    "        return len(self.items) == 0\n",
    "\n",
    "    def push(self, item):\n",
    "        self.items.append(item)\n",
    "\n",
    "    def pop(self):\n",
    "        if not self.is_empty():\n",
    "            return self.items.pop()\n",
    "        else:\n",
    "            raise IndexError(\"Cannot pop from an empty stack\")\n",
    "\n",
    "    def peek(self):\n",
    "        if not self.is_empty():\n",
    "            return self.items[-1]\n",
    "        else:\n",
    "            raise IndexError(\"Cannot peek an empty stack\")\n",
    "\n",
    "    def size(self):\n",
    "        return len(self.items)\n"
   ]
  },
  {
   "cell_type": "code",
   "execution_count": 16,
   "id": "f4eb703e",
   "metadata": {},
   "outputs": [
    {
     "name": "stdout",
     "output_type": "stream",
     "text": [
      "Wall time: 33.7 ms\n"
     ]
    }
   ],
   "source": [
    "%%time\n",
    "\n",
    "# Example usage:\n",
    "my_stack = Stack()\n",
    "for i in range(0,100000):\n",
    "    my_stack.push(i)"
   ]
  },
  {
   "cell_type": "code",
   "execution_count": 17,
   "id": "6bbe201e",
   "metadata": {},
   "outputs": [
    {
     "name": "stdout",
     "output_type": "stream",
     "text": [
      "Peeked item: 99999\n",
      "Wall time: 0 ns\n"
     ]
    }
   ],
   "source": [
    "%%time\n",
    "peeked_item = my_stack.peek()\n",
    "print(\"Peeked item:\", peeked_item)\n",
    "# print(\"Current Stack:\", my_stack.items)"
   ]
  },
  {
   "cell_type": "code",
   "execution_count": 18,
   "id": "2cb49e1f",
   "metadata": {},
   "outputs": [
    {
     "name": "stdout",
     "output_type": "stream",
     "text": [
      "Wall time: 215 ms\n"
     ]
    }
   ],
   "source": [
    "%%time\n",
    "\n",
    "from queue import LifoQueue\n",
    "\n",
    "my_stack = LifoQueue()\n",
    "\n",
    "for i in range(0,100000):\n",
    "    my_stack.put(i)"
   ]
  },
  {
   "cell_type": "code",
   "execution_count": 19,
   "id": "eba184ce",
   "metadata": {},
   "outputs": [
    {
     "name": "stdout",
     "output_type": "stream",
     "text": [
      "Popped item: 99999\n",
      "Wall time: 0 ns\n"
     ]
    }
   ],
   "source": [
    "%%time\n",
    "popped_item = my_stack.get()\n",
    "print(\"Popped item:\", popped_item)\n",
    "# print(\"Updated Stack:\", my_stack.items)"
   ]
  },
  {
   "cell_type": "code",
   "execution_count": null,
   "id": "97e42169",
   "metadata": {},
   "outputs": [],
   "source": []
  }
 ],
 "metadata": {
  "kernelspec": {
   "display_name": "Python 3",
   "language": "python",
   "name": "python3"
  },
  "language_info": {
   "codemirror_mode": {
    "name": "ipython",
    "version": 3
   },
   "file_extension": ".py",
   "mimetype": "text/x-python",
   "name": "python",
   "nbconvert_exporter": "python",
   "pygments_lexer": "ipython3",
   "version": "3.8.8"
  }
 },
 "nbformat": 4,
 "nbformat_minor": 5
}
